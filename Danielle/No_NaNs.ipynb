{
 "cells": [
  {
   "cell_type": "code",
   "execution_count": 2,
   "metadata": {},
   "outputs": [],
   "source": [
    "import pandas as pd\n",
    "from pandas import DataFrame as DF\n",
    "import numpy as np\n",
    "from numpy.testing import assert_almost_equal\n",
    "import re\n",
    "import sys\n",
    "import time\n",
    "import threading\n",
    "import category_encoders as ce\n",
    "\n",
    "from sklearn.model_selection import train_test_split\n",
    "from sklearn.ensemble import GradientBoostingClassifier\n",
    "from sklearn.linear_model import LogisticRegression\n",
    "from sklearn.model_selection import cross_val_score\n",
    "from sklearn.model_selection import cross_val_predict\n",
    "from sklearn.metrics import accuracy_score, roc_auc_score\n",
    "\n",
    "import warnings\n",
    "warnings.filterwarnings('ignore')"
   ]
  },
  {
   "cell_type": "code",
   "execution_count": 3,
   "metadata": {},
   "outputs": [],
   "source": [
    "pthurl =  '3rdpartyExport.csv'\n",
    "features1 = pd.read_csv(pthurl)"
   ]
  },
  {
   "cell_type": "code",
   "execution_count": 4,
   "metadata": {},
   "outputs": [],
   "source": [
    "def clean(dat: pd.DataFrame) -> pd.DataFrame: \n",
    "    def try_lower(x): \n",
    "        try: \n",
    "            return x.lower()\n",
    "        except AttributeError:\n",
    "            return x\n",
    "\n",
    "    return (dat.assign(**{feat: dat[feat].apply(try_lower) for feat in dat.select_dtypes(exclude=[np.number]).columns})\n",
    "            .rename(columns={' $/ sq ft ': 'price_per_sq_ft', \n",
    "                               '$ / sq ft for keywords': 'price_per_sq_ft_by_keyword', \n",
    "                               ' $/ sq ft .1': 'price_per_sq_ft_.1'})\n",
    "            .rename(columns=lambda s: s.replace(' ', '_').lower())\n",
    "            \n",
    "           )"
   ]
  },
  {
   "cell_type": "code",
   "execution_count": 5,
   "metadata": {},
   "outputs": [
    {
     "data": {
      "text/plain": [
       "Index(['price_per_sq_ft', 'sale_price', 'list_price',\n",
       "       '>90_day_before_sale_zestimate', 'price_per_sq_ft_by_keyword',\n",
       "       'close_date', 'street_number', 'street_name', 'street_suffix', 'city',\n",
       "       'county', 'zip5', 'unnamed:_12', 'beds_total', 'baths.lavs',\n",
       "       'est_fin_abv_grd_sqft', 'acreage', 'architecture_level',\n",
       "       'architecture_style', 'price_per_sq_ft_.1', 'basement_type',\n",
       "       'unnamed:_21', 'sale_price.1', 'exterior', 'cooling',\n",
       "       'exterior_features', 'garage_dimensions', 'garage_features',\n",
       "       'garage_size', 'heating', 'original_list_price', 'photo_count',\n",
       "       'pool_yn', 'public_remarks', 'avg', 'count', 'without',\n",
       "       'sqft-est_tot_fin', 'sqft-est_fin_lower_floor', 'sqft-est_fin_abv_grd',\n",
       "       'sqft-est_tot_bsmt', 'year_built', 'year_remodeled', 'porch_type'],\n",
       "      dtype='object')"
      ]
     },
     "execution_count": 5,
     "metadata": {},
     "output_type": "execute_result"
    }
   ],
   "source": [
    "features1 = clean(pd.read_csv(pthurl))\n",
    "\n",
    "features1.columns"
   ]
  },
  {
   "cell_type": "code",
   "execution_count": 6,
   "metadata": {},
   "outputs": [
    {
     "data": {
      "text/plain": [
       "(955, 22)"
      ]
     },
     "execution_count": 6,
     "metadata": {},
     "output_type": "execute_result"
    }
   ],
   "source": [
    "# Some features engineering\n",
    "features1 = features1[['price_per_sq_ft', 'sale_price', 'list_price', 'close_date', 'zip5',\n",
    "                       'beds_total', 'baths.lavs', 'est_fin_abv_grd_sqft','acreage',\n",
    "                       'architecture_level', 'architecture_style', 'basement_type','exterior',\n",
    "                       'cooling', 'exterior_features', 'garage_features', 'heating',\n",
    "                       'sqft-est_tot_fin', 'sqft-est_fin_lower_floor', 'sqft-est_fin_abv_grd',\n",
    "                       'sqft-est_tot_bsmt', 'year_built']]\n",
    "\n",
    "features1.shape"
   ]
  },
  {
   "cell_type": "code",
   "execution_count": 7,
   "metadata": {},
   "outputs": [
    {
     "name": "stdout",
     "output_type": "stream",
     "text": [
      "(955, 22)\n"
     ]
    },
    {
     "data": {
      "text/plain": [
       "price_per_sq_ft               0\n",
       "sale_price                    0\n",
       "list_price                    0\n",
       "close_date                    0\n",
       "zip5                          0\n",
       "beds_total                    0\n",
       "baths.lavs                    0\n",
       "est_fin_abv_grd_sqft          0\n",
       "acreage                       0\n",
       "architecture_level            2\n",
       "architecture_style            5\n",
       "basement_type                94\n",
       "exterior                      2\n",
       "cooling                      39\n",
       "exterior_features           205\n",
       "garage_features             151\n",
       "heating                       2\n",
       "sqft-est_tot_fin              0\n",
       "sqft-est_fin_lower_floor    337\n",
       "sqft-est_fin_abv_grd          0\n",
       "sqft-est_tot_bsmt            64\n",
       "year_built                    0\n",
       "dtype: int64"
      ]
     },
     "execution_count": 7,
     "metadata": {},
     "output_type": "execute_result"
    }
   ],
   "source": [
    "print(features1.shape)\n",
    "features1.isnull().sum()"
   ]
  },
  {
   "cell_type": "code",
   "execution_count": 8,
   "metadata": {},
   "outputs": [
    {
     "data": {
      "text/plain": [
       "price_per_sq_ft             0\n",
       "sale_price                  0\n",
       "list_price                  0\n",
       "close_date                  0\n",
       "zip5                        0\n",
       "beds_total                  0\n",
       "baths.lavs                  0\n",
       "est_fin_abv_grd_sqft        0\n",
       "acreage                     0\n",
       "architecture_level          0\n",
       "architecture_style          0\n",
       "basement_type               0\n",
       "exterior                    0\n",
       "cooling                     0\n",
       "exterior_features           0\n",
       "garage_features             0\n",
       "heating                     0\n",
       "sqft-est_tot_fin            0\n",
       "sqft-est_fin_lower_floor    0\n",
       "sqft-est_fin_abv_grd        0\n",
       "sqft-est_tot_bsmt           0\n",
       "year_built                  0\n",
       "dtype: int64"
      ]
     },
     "execution_count": 8,
     "metadata": {},
     "output_type": "execute_result"
    }
   ],
   "source": [
    "No_NaNs = features1.copy()\n",
    "No_NaNs = No_NaNs.dropna()\n",
    "No_NaNs.isnull().sum()"
   ]
  },
  {
   "cell_type": "code",
   "execution_count": 9,
   "metadata": {},
   "outputs": [
    {
     "data": {
      "text/plain": [
       "(391, 21)"
      ]
     },
     "execution_count": 9,
     "metadata": {},
     "output_type": "execute_result"
    }
   ],
   "source": [
    "encoder = ce.OrdinalEncoder()\n",
    "XN = No_NaNs.drop(['sale_price'], axis=1)\n",
    "yn = No_NaNs.sale_price\n",
    "XN = encoder.fit_transform(XN)\n",
    "XN.shape"
   ]
  },
  {
   "cell_type": "code",
   "execution_count": 10,
   "metadata": {},
   "outputs": [
    {
     "name": "stdout",
     "output_type": "stream",
     "text": [
      "XN_train shape is:  (312, 21)\n",
      "XN_test shape is:  (79, 21)\n",
      "yn_train shape is:  (312,)\n",
      "yn_trest shape is:  (79,)\n"
     ]
    }
   ],
   "source": [
    "#Splitting data for experimental features encoded\n",
    "XN_train, XN_test, yn_train, yn_test = train_test_split(\n",
    "    XN, yn, test_size=0.2, random_state=42)\n",
    "\n",
    "# Confirming correct shapes of data\n",
    "print(\"XN_train shape is: \", (XN_train.shape))\n",
    "print(\"XN_test shape is: \",(XN_test.shape))\n",
    "print(\"yn_train shape is: \",(yn_train.shape))\n",
    "print(\"yn_trest shape is: \",(yn_test.shape))"
   ]
  },
  {
   "cell_type": "code",
   "execution_count": 11,
   "metadata": {},
   "outputs": [
    {
     "data": {
      "text/plain": [
       "0.6955128205128205"
      ]
     },
     "execution_count": 11,
     "metadata": {},
     "output_type": "execute_result"
    }
   ],
   "source": [
    "# Baseline Prediction\n",
    "logreg = LogisticRegression()\n",
    "logreg.fit(XN_train,yn_train)\n",
    "yn_pred = logreg.predict(XN_train)\n",
    "accuracy_score(yn_train,yn_pred)"
   ]
  },
  {
   "cell_type": "code",
   "execution_count": null,
   "metadata": {},
   "outputs": [],
   "source": []
  },
  {
   "cell_type": "code",
   "execution_count": null,
   "metadata": {},
   "outputs": [],
   "source": []
  },
  {
   "cell_type": "code",
   "execution_count": null,
   "metadata": {},
   "outputs": [],
   "source": []
  }
 ],
 "metadata": {
  "kernelspec": {
   "display_name": "Python 3",
   "language": "python",
   "name": "python3"
  },
  "language_info": {
   "codemirror_mode": {
    "name": "ipython",
    "version": 3
   },
   "file_extension": ".py",
   "mimetype": "text/x-python",
   "name": "python",
   "nbconvert_exporter": "python",
   "pygments_lexer": "ipython3",
   "version": "3.6.6"
  }
 },
 "nbformat": 4,
 "nbformat_minor": 2
}
