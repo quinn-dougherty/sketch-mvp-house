{
 "cells": [
  {
   "cell_type": "code",
   "execution_count": 1,
   "metadata": {},
   "outputs": [],
   "source": [
    "import pandas as pd\n",
    "import numpy as np\n",
    "import matplotlib.pyplot as plt\n",
    "from numpy.testing import assert_almost_equal\n",
    "import re\n",
    "import sys\n",
    "import time\n",
    "import threading\n",
    "import seaborn as sns\n",
    "import mpl_toolkits\n",
    "from scipy import stats\n",
    "import xgboost as xgb\n",
    "from scipy.stats import norm\n",
    "from collections import Counter\n",
    "\n",
    "from sklearn.model_selection import train_test_split, GridSearchCV\n",
    "from sklearn.model_selection import cross_val_score, cross_val_predict, KFold\n",
    "from sklearn.linear_model import LinearRegression, LogisticRegression, Lasso\n",
    "from sklearn.linear_model import Ridge\n",
    "from sklearn.preprocessing import StandardScaler, PolynomialFeatures\n",
    "from sklearn.pipeline import Pipeline\n",
    "from sklearn.ensemble import RandomForestRegressor\n",
    "from sklearn.preprocessing import LabelEncoder\n",
    "from sklearn.neighbors import KNeighborsRegressor\n",
    "from sklearn.neural_network import MLPRegressor\n",
    "from sklearn.metrics import  mean_absolute_error\n",
    "from sklearn.tree import DecisionTreeRegressor\n",
    "from sklearn.ensemble import GradientBoostingRegressor\n",
    "from sklearn.model_selection import cross_val_score\n",
    "from sklearn.model_selection import cross_val_predict\n",
    "from sklearn.metrics import accuracy_score\n",
    "\n",
    "import warnings\n",
    "warnings.filterwarnings('ignore')"
   ]
  },
  {
   "cell_type": "code",
   "execution_count": 2,
   "metadata": {},
   "outputs": [],
   "source": [
    "pthurl =  '3rdpartyExport.csv'\n",
    "DF = pd.read_csv(pthurl)"
   ]
  },
  {
   "cell_type": "code",
   "execution_count": 3,
   "metadata": {},
   "outputs": [],
   "source": [
    "def train_test_val_split(Dat: DF, x: float, y: float, z: float): \n",
    "    '''dat: data\n",
    "    x: train size\n",
    "    y: validation size\n",
    "    z: test size'''\n",
    "    y_ = y / (1-x)\n",
    "    z_ = z / (1-x)\n",
    "    assert_almost_equal(x+y+z, 1)\n",
    "    assert_almost_equal(y_+z_, 1)\n",
    "    train, valtest = train_test_split(Dat, train_size=x, test_size=y+z)\n",
    "    val, test = train_test_split(valtest, train_size=y_, test_size=z_)\n",
    "    return train, val, test"
   ]
  },
  {
   "cell_type": "code",
   "execution_count": 4,
   "metadata": {},
   "outputs": [],
   "source": [
    "class Spinner:\n",
    "    busy = False\n",
    "    delay = 0.1\n",
    "\n",
    "    @staticmethod\n",
    "    def spinning_cursor():\n",
    "        while 1: \n",
    "            for cursor in '|/-\\\\': yield '.'+cursor\n",
    "\n",
    "    def __init__(self, delay=None):\n",
    "        self.spinner_generator = self.spinning_cursor()\n",
    "        if delay and float(delay): self.delay = delay\n",
    "\n",
    "    def spinner_task(self):\n",
    "        while self.busy:\n",
    "            sys.stdout.write(next(self.spinner_generator))\n",
    "            sys.stdout.flush()\n",
    "            time.sleep(self.delay)\n",
    "            sys.stdout.write('\\b')\n",
    "            sys.stdout.flush()\n",
    "\n",
    "    def start(self):\n",
    "        self.busy = True\n",
    "        threading.Thread(target=self.spinner_task).start()\n",
    "\n",
    "    def stop(self):\n",
    "        self.busy = False\n",
    "        time.sleep(self.delay)"
   ]
  },
  {
   "cell_type": "code",
   "execution_count": 5,
   "metadata": {},
   "outputs": [],
   "source": [
    "PTHURL = '3rdpartyExport.csv'\n",
    "spin = Spinner()"
   ]
  },
  {
   "cell_type": "code",
   "execution_count": 6,
   "metadata": {},
   "outputs": [],
   "source": [
    "class Data:\n",
    "    ''' from a raw csv, clean it, and pick out regressands and target. train_test_split will happen in notebook as will the rest of it.\n",
    "    based entirely on the excel sheet Anthony shared on day one 04-22-2019.\n",
    "        here https://docs.google.com/spreadsheets/d/1T1SD2SD_Rc_AVLREZk5TaZSHVUwzw_z_zLwMJDlklak/edit?usp=sharing\n",
    "    '''\n",
    "    def __init__(self, csv_string):\n",
    "        spin.start()\n",
    "        self.dat = self.clean(pd.read_csv(csv_string))\n",
    "        self.regressands = ['price_per_sq_ft', 'beds_total', 'baths.lavs',\n",
    "                            'original_list_price', 'year_built',\n",
    "                            'sqft-est_tot_fin', 'sqft-est_fin_abv_grd', 'acreage']\n",
    "        self.X = self.dat[self.regressands]\n",
    "        self.y = self.dat['sale_price']\n",
    "        spin.stop()\n",
    "\n",
    "    def clean(self, dat: pd.DataFrame) -> pd.DataFrame:\n",
    "        ''''''\n",
    "        def try_lower(x):\n",
    "            ''''''\n",
    "            try:\n",
    "                return x.lower()\n",
    "            except AttributeError:\n",
    "                return x\n",
    "\n",
    "        def try_float_cash(x):\n",
    "            ''''''\n",
    "            try:\n",
    "                return float('.'.join(re.findall(r'\\d+', x)))\n",
    "            except TypeError:\n",
    "                return x\n",
    "            except ValueError:\n",
    "                return x\n",
    "\n",
    "\n",
    "        return (dat.assign(**{feat: dat[feat].apply(try_lower).apply(try_float_cash)\n",
    "                              for feat in dat.select_dtypes(exclude=[np.number]).columns})\n",
    "                .drop([x for x in dat.columns if dat[x].isna().sum()>0], axis=1)\n",
    "                .rename(columns={' $/ sq ft ': 'price_per_sq_ft',\n",
    "                                   '$ / sq ft for keywords': 'price_per_sq_ft_by_keyword',\n",
    "                                   ' $/ sq ft .1': 'price_per_sq_ft_.1',\n",
    "                                'baths.lavs': 'baths_total'})\n",
    "                .rename(columns=lambda s: s.replace(' ', '_').lower().replace(':', ''))\n",
    "               )"
   ]
  },
  {
   "cell_type": "code",
   "execution_count": 7,
   "metadata": {},
   "outputs": [],
   "source": [
    "# transcribing from excel\n",
    "row_to_keyword_mapper = {0: 'granite', 1: 'handyman', 2: 'new roof', 3: \"ETC DON'T ACTULALY WANT TO TRANSCRIBE THIS\"}\n",
    "\n",
    "keywords = ['granite', 'handyman', 'new roof', ]\n",
    "\n",
    "# Peyton says Doc2Vec from GenSim is what we want for this\n",
    "# df.public_remarks"
   ]
  },
  {
   "cell_type": "code",
   "execution_count": 8,
   "metadata": {},
   "outputs": [
    {
     "name": "stdout",
     "output_type": "stream",
     "text": [
      "(955, 23)\n"
     ]
    },
    {
     "data": {
      "text/html": [
       "<div>\n",
       "<style scoped>\n",
       "    .dataframe tbody tr th:only-of-type {\n",
       "        vertical-align: middle;\n",
       "    }\n",
       "\n",
       "    .dataframe tbody tr th {\n",
       "        vertical-align: top;\n",
       "    }\n",
       "\n",
       "    .dataframe thead th {\n",
       "        text-align: right;\n",
       "    }\n",
       "</style>\n",
       "<table border=\"1\" class=\"dataframe\">\n",
       "  <thead>\n",
       "    <tr style=\"text-align: right;\">\n",
       "      <th></th>\n",
       "      <th>price_per_sq_ft</th>\n",
       "      <th>sale_price</th>\n",
       "      <th>list_price</th>\n",
       "      <th>close_date</th>\n",
       "      <th>street_number</th>\n",
       "      <th>street_name</th>\n",
       "      <th>city</th>\n",
       "      <th>county</th>\n",
       "      <th>zip5</th>\n",
       "      <th>beds_total</th>\n",
       "      <th>...</th>\n",
       "      <th>price_per_sq_ft_.1</th>\n",
       "      <th>sale_price.1</th>\n",
       "      <th>original_list_price</th>\n",
       "      <th>photo_count</th>\n",
       "      <th>pool_yn</th>\n",
       "      <th>avg</th>\n",
       "      <th>count</th>\n",
       "      <th>sqft-est_tot_fin</th>\n",
       "      <th>sqft-est_fin_abv_grd</th>\n",
       "      <th>year_built</th>\n",
       "    </tr>\n",
       "  </thead>\n",
       "  <tbody>\n",
       "    <tr>\n",
       "      <th>0</th>\n",
       "      <td>98.0</td>\n",
       "      <td>170000</td>\n",
       "      <td>178000</td>\n",
       "      <td>04/16/2018</td>\n",
       "      <td>1013</td>\n",
       "      <td>genesee</td>\n",
       "      <td>royal oak</td>\n",
       "      <td>oakland</td>\n",
       "      <td>48073</td>\n",
       "      <td>3</td>\n",
       "      <td>...</td>\n",
       "      <td>98.0</td>\n",
       "      <td>170000</td>\n",
       "      <td>199900</td>\n",
       "      <td>11</td>\n",
       "      <td>False</td>\n",
       "      <td>200.0</td>\n",
       "      <td>154</td>\n",
       "      <td>1.726</td>\n",
       "      <td>1.026</td>\n",
       "      <td>1952</td>\n",
       "    </tr>\n",
       "    <tr>\n",
       "      <th>1</th>\n",
       "      <td>99.0</td>\n",
       "      <td>181000</td>\n",
       "      <td>179900</td>\n",
       "      <td>08/22/2018</td>\n",
       "      <td>3266</td>\n",
       "      <td>harvard</td>\n",
       "      <td>royal oak</td>\n",
       "      <td>oakland</td>\n",
       "      <td>48073</td>\n",
       "      <td>3</td>\n",
       "      <td>...</td>\n",
       "      <td>99.0</td>\n",
       "      <td>181000</td>\n",
       "      <td>199900</td>\n",
       "      <td>2</td>\n",
       "      <td>False</td>\n",
       "      <td>197.0</td>\n",
       "      <td>154</td>\n",
       "      <td>1.910</td>\n",
       "      <td>1.210</td>\n",
       "      <td>1949</td>\n",
       "    </tr>\n",
       "    <tr>\n",
       "      <th>2</th>\n",
       "      <td>103.0</td>\n",
       "      <td>165500</td>\n",
       "      <td>199900</td>\n",
       "      <td>12/03/2018</td>\n",
       "      <td>708</td>\n",
       "      <td>campbell</td>\n",
       "      <td>royal oak</td>\n",
       "      <td>oakland</td>\n",
       "      <td>48067</td>\n",
       "      <td>4</td>\n",
       "      <td>...</td>\n",
       "      <td>103.0</td>\n",
       "      <td>165500</td>\n",
       "      <td>199900</td>\n",
       "      <td>21</td>\n",
       "      <td>False</td>\n",
       "      <td>217.0</td>\n",
       "      <td>154</td>\n",
       "      <td>1.764</td>\n",
       "      <td>1.764</td>\n",
       "      <td>1923</td>\n",
       "    </tr>\n",
       "    <tr>\n",
       "      <th>3</th>\n",
       "      <td>105.0</td>\n",
       "      <td>290000</td>\n",
       "      <td>300000</td>\n",
       "      <td>06/04/2018</td>\n",
       "      <td>2607</td>\n",
       "      <td>carman</td>\n",
       "      <td>royal oak</td>\n",
       "      <td>oakland</td>\n",
       "      <td>48073</td>\n",
       "      <td>4</td>\n",
       "      <td>...</td>\n",
       "      <td>105.0</td>\n",
       "      <td>290000</td>\n",
       "      <td>325000</td>\n",
       "      <td>31</td>\n",
       "      <td>False</td>\n",
       "      <td>232.0</td>\n",
       "      <td>154</td>\n",
       "      <td>936.000</td>\n",
       "      <td>936.000</td>\n",
       "      <td>1953</td>\n",
       "    </tr>\n",
       "    <tr>\n",
       "      <th>4</th>\n",
       "      <td>105.0</td>\n",
       "      <td>125000</td>\n",
       "      <td>159900</td>\n",
       "      <td>04/23/2018</td>\n",
       "      <td>2931</td>\n",
       "      <td>rochester</td>\n",
       "      <td>royal oak</td>\n",
       "      <td>oakland</td>\n",
       "      <td>48073</td>\n",
       "      <td>3</td>\n",
       "      <td>...</td>\n",
       "      <td>105.0</td>\n",
       "      <td>125000</td>\n",
       "      <td>174999</td>\n",
       "      <td>25</td>\n",
       "      <td>False</td>\n",
       "      <td>155.0</td>\n",
       "      <td>3</td>\n",
       "      <td>1.792</td>\n",
       "      <td>1.064</td>\n",
       "      <td>1949</td>\n",
       "    </tr>\n",
       "  </tbody>\n",
       "</table>\n",
       "<p>5 rows × 23 columns</p>\n",
       "</div>"
      ],
      "text/plain": [
       "   price_per_sq_ft  sale_price  list_price  close_date  street_number  \\\n",
       "0             98.0      170000      178000  04/16/2018           1013   \n",
       "1             99.0      181000      179900  08/22/2018           3266   \n",
       "2            103.0      165500      199900  12/03/2018            708   \n",
       "3            105.0      290000      300000  06/04/2018           2607   \n",
       "4            105.0      125000      159900  04/23/2018           2931   \n",
       "\n",
       "  street_name       city   county   zip5  beds_total  ...  price_per_sq_ft_.1  \\\n",
       "0     genesee  royal oak  oakland  48073           3  ...                98.0   \n",
       "1     harvard  royal oak  oakland  48073           3  ...                99.0   \n",
       "2    campbell  royal oak  oakland  48067           4  ...               103.0   \n",
       "3      carman  royal oak  oakland  48073           4  ...               105.0   \n",
       "4   rochester  royal oak  oakland  48073           3  ...               105.0   \n",
       "\n",
       "   sale_price.1  original_list_price  photo_count  pool_yn    avg  count  \\\n",
       "0        170000               199900           11    False  200.0    154   \n",
       "1        181000               199900            2    False  197.0    154   \n",
       "2        165500               199900           21    False  217.0    154   \n",
       "3        290000               325000           31    False  232.0    154   \n",
       "4        125000               174999           25    False  155.0      3   \n",
       "\n",
       "   sqft-est_tot_fin  sqft-est_fin_abv_grd  year_built  \n",
       "0             1.726                 1.026        1952  \n",
       "1             1.910                 1.210        1949  \n",
       "2             1.764                 1.764        1923  \n",
       "3           936.000               936.000        1953  \n",
       "4             1.792                 1.064        1949  \n",
       "\n",
       "[5 rows x 23 columns]"
      ]
     },
     "execution_count": 8,
     "metadata": {},
     "output_type": "execute_result"
    }
   ],
   "source": [
    "def clean(dat: pd.DataFrame) -> pd.DataFrame: \n",
    "    ''''''\n",
    "    def try_lower(x): \n",
    "        ''''''\n",
    "        try: \n",
    "            return x.lower()\n",
    "        except AttributeError:\n",
    "            return x\n",
    "\n",
    "    def try_float_cash(x): \n",
    "        ''''''\n",
    "        try:\n",
    "            return float('.'.join(re.findall(r'\\d+', x)))\n",
    "        except TypeError: \n",
    "            return x\n",
    "        except ValueError: \n",
    "            return x\n",
    "\n",
    "        \n",
    "    return (dat.assign(**{feat: dat[feat].apply(try_lower).apply(try_float_cash)\n",
    "                          for feat in dat.select_dtypes(exclude=[np.number]).columns})\n",
    "            .drop([x for x in dat.columns if dat[x].isna().sum()>0], axis=1)\n",
    "            .rename(columns={' $/ sq ft ': 'price_per_sq_ft', \n",
    "                               '$ / sq ft for keywords': 'price_per_sq_ft_by_keyword', \n",
    "                               ' $/ sq ft .1': 'price_per_sq_ft_.1', \n",
    "                            'baths.lavs': 'baths_total'})\n",
    "            .rename(columns=lambda s: s.replace(' ', '_').lower().replace(':', ''))\n",
    "            \n",
    "           )\n",
    "\n",
    "# target: sale_price\n",
    "df = clean(pd.read_csv(pthurl))\n",
    "\n",
    "all([x==y for x,y in df[['price_per_sq_ft', 'price_per_sq_ft_.1']].values])\n",
    "assert df.isna().sum().sum()==0\n",
    "all([x==y for x,y in df[['sale_price', 'sale_price.1']].values])\n",
    "\n",
    "print(df.shape)\n",
    "\n",
    "df.head()"
   ]
  },
  {
   "cell_type": "code",
   "execution_count": 9,
   "metadata": {},
   "outputs": [
    {
     "data": {
      "text/plain": [
       "Index(['price_per_sq_ft', 'sale_price', 'list_price', 'close_date',\n",
       "       'street_number', 'street_name', 'city', 'county', 'zip5', 'beds_total',\n",
       "       'baths.lavs', 'est_fin_abv_grd_sqft', 'acreage', 'price_per_sq_ft_.1',\n",
       "       'sale_price.1', 'original_list_price', 'photo_count', 'pool_yn', 'avg',\n",
       "       'count', 'sqft-est_tot_fin', 'sqft-est_fin_abv_grd', 'year_built'],\n",
       "      dtype='object')"
      ]
     },
     "execution_count": 9,
     "metadata": {},
     "output_type": "execute_result"
    }
   ],
   "source": [
    "df.columns"
   ]
  },
  {
   "cell_type": "code",
   "execution_count": 10,
   "metadata": {},
   "outputs": [
    {
     "data": {
      "text/html": [
       "<div>\n",
       "<style scoped>\n",
       "    .dataframe tbody tr th:only-of-type {\n",
       "        vertical-align: middle;\n",
       "    }\n",
       "\n",
       "    .dataframe tbody tr th {\n",
       "        vertical-align: top;\n",
       "    }\n",
       "\n",
       "    .dataframe thead th {\n",
       "        text-align: right;\n",
       "    }\n",
       "</style>\n",
       "<table border=\"1\" class=\"dataframe\">\n",
       "  <thead>\n",
       "    <tr style=\"text-align: right;\">\n",
       "      <th></th>\n",
       "      <th>price_per_sq_ft</th>\n",
       "      <th>sale_price</th>\n",
       "      <th>list_price</th>\n",
       "      <th>close_date</th>\n",
       "      <th>street_number</th>\n",
       "      <th>street_name</th>\n",
       "      <th>city</th>\n",
       "      <th>county</th>\n",
       "      <th>zip5</th>\n",
       "      <th>beds_total</th>\n",
       "      <th>...</th>\n",
       "      <th>price_per_sq_ft_.1</th>\n",
       "      <th>sale_price.1</th>\n",
       "      <th>original_list_price</th>\n",
       "      <th>photo_count</th>\n",
       "      <th>pool_yn</th>\n",
       "      <th>avg</th>\n",
       "      <th>count</th>\n",
       "      <th>sqft-est_tot_fin</th>\n",
       "      <th>sqft-est_fin_abv_grd</th>\n",
       "      <th>year_built</th>\n",
       "    </tr>\n",
       "  </thead>\n",
       "  <tbody>\n",
       "    <tr>\n",
       "      <th>0</th>\n",
       "      <td>98.0</td>\n",
       "      <td>170000</td>\n",
       "      <td>178000</td>\n",
       "      <td>04/16/2018</td>\n",
       "      <td>1013</td>\n",
       "      <td>genesee</td>\n",
       "      <td>royal oak</td>\n",
       "      <td>oakland</td>\n",
       "      <td>48073</td>\n",
       "      <td>3</td>\n",
       "      <td>...</td>\n",
       "      <td>98.0</td>\n",
       "      <td>170000</td>\n",
       "      <td>199900</td>\n",
       "      <td>11</td>\n",
       "      <td>False</td>\n",
       "      <td>200.0</td>\n",
       "      <td>154</td>\n",
       "      <td>1.726</td>\n",
       "      <td>1.026</td>\n",
       "      <td>1952</td>\n",
       "    </tr>\n",
       "    <tr>\n",
       "      <th>1</th>\n",
       "      <td>99.0</td>\n",
       "      <td>181000</td>\n",
       "      <td>179900</td>\n",
       "      <td>08/22/2018</td>\n",
       "      <td>3266</td>\n",
       "      <td>harvard</td>\n",
       "      <td>royal oak</td>\n",
       "      <td>oakland</td>\n",
       "      <td>48073</td>\n",
       "      <td>3</td>\n",
       "      <td>...</td>\n",
       "      <td>99.0</td>\n",
       "      <td>181000</td>\n",
       "      <td>199900</td>\n",
       "      <td>2</td>\n",
       "      <td>False</td>\n",
       "      <td>197.0</td>\n",
       "      <td>154</td>\n",
       "      <td>1.910</td>\n",
       "      <td>1.210</td>\n",
       "      <td>1949</td>\n",
       "    </tr>\n",
       "    <tr>\n",
       "      <th>2</th>\n",
       "      <td>103.0</td>\n",
       "      <td>165500</td>\n",
       "      <td>199900</td>\n",
       "      <td>12/03/2018</td>\n",
       "      <td>708</td>\n",
       "      <td>campbell</td>\n",
       "      <td>royal oak</td>\n",
       "      <td>oakland</td>\n",
       "      <td>48067</td>\n",
       "      <td>4</td>\n",
       "      <td>...</td>\n",
       "      <td>103.0</td>\n",
       "      <td>165500</td>\n",
       "      <td>199900</td>\n",
       "      <td>21</td>\n",
       "      <td>False</td>\n",
       "      <td>217.0</td>\n",
       "      <td>154</td>\n",
       "      <td>1.764</td>\n",
       "      <td>1.764</td>\n",
       "      <td>1923</td>\n",
       "    </tr>\n",
       "    <tr>\n",
       "      <th>3</th>\n",
       "      <td>105.0</td>\n",
       "      <td>290000</td>\n",
       "      <td>300000</td>\n",
       "      <td>06/04/2018</td>\n",
       "      <td>2607</td>\n",
       "      <td>carman</td>\n",
       "      <td>royal oak</td>\n",
       "      <td>oakland</td>\n",
       "      <td>48073</td>\n",
       "      <td>4</td>\n",
       "      <td>...</td>\n",
       "      <td>105.0</td>\n",
       "      <td>290000</td>\n",
       "      <td>325000</td>\n",
       "      <td>31</td>\n",
       "      <td>False</td>\n",
       "      <td>232.0</td>\n",
       "      <td>154</td>\n",
       "      <td>936.000</td>\n",
       "      <td>936.000</td>\n",
       "      <td>1953</td>\n",
       "    </tr>\n",
       "    <tr>\n",
       "      <th>4</th>\n",
       "      <td>105.0</td>\n",
       "      <td>125000</td>\n",
       "      <td>159900</td>\n",
       "      <td>04/23/2018</td>\n",
       "      <td>2931</td>\n",
       "      <td>rochester</td>\n",
       "      <td>royal oak</td>\n",
       "      <td>oakland</td>\n",
       "      <td>48073</td>\n",
       "      <td>3</td>\n",
       "      <td>...</td>\n",
       "      <td>105.0</td>\n",
       "      <td>125000</td>\n",
       "      <td>174999</td>\n",
       "      <td>25</td>\n",
       "      <td>False</td>\n",
       "      <td>155.0</td>\n",
       "      <td>3</td>\n",
       "      <td>1.792</td>\n",
       "      <td>1.064</td>\n",
       "      <td>1949</td>\n",
       "    </tr>\n",
       "  </tbody>\n",
       "</table>\n",
       "<p>5 rows × 23 columns</p>\n",
       "</div>"
      ],
      "text/plain": [
       "   price_per_sq_ft  sale_price  list_price  close_date  street_number  \\\n",
       "0             98.0      170000      178000  04/16/2018           1013   \n",
       "1             99.0      181000      179900  08/22/2018           3266   \n",
       "2            103.0      165500      199900  12/03/2018            708   \n",
       "3            105.0      290000      300000  06/04/2018           2607   \n",
       "4            105.0      125000      159900  04/23/2018           2931   \n",
       "\n",
       "  street_name       city   county   zip5  beds_total  ...  price_per_sq_ft_.1  \\\n",
       "0     genesee  royal oak  oakland  48073           3  ...                98.0   \n",
       "1     harvard  royal oak  oakland  48073           3  ...                99.0   \n",
       "2    campbell  royal oak  oakland  48067           4  ...               103.0   \n",
       "3      carman  royal oak  oakland  48073           4  ...               105.0   \n",
       "4   rochester  royal oak  oakland  48073           3  ...               105.0   \n",
       "\n",
       "   sale_price.1  original_list_price  photo_count  pool_yn    avg  count  \\\n",
       "0        170000               199900           11    False  200.0    154   \n",
       "1        181000               199900            2    False  197.0    154   \n",
       "2        165500               199900           21    False  217.0    154   \n",
       "3        290000               325000           31    False  232.0    154   \n",
       "4        125000               174999           25    False  155.0      3   \n",
       "\n",
       "   sqft-est_tot_fin  sqft-est_fin_abv_grd  year_built  \n",
       "0             1.726                 1.026        1952  \n",
       "1             1.910                 1.210        1949  \n",
       "2             1.764                 1.764        1923  \n",
       "3           936.000               936.000        1953  \n",
       "4             1.792                 1.064        1949  \n",
       "\n",
       "[5 rows x 23 columns]"
      ]
     },
     "execution_count": 10,
     "metadata": {},
     "output_type": "execute_result"
    }
   ],
   "source": [
    "housing = pd.DataFrame(df)\n",
    "housing.head()"
   ]
  },
  {
   "cell_type": "code",
   "execution_count": 11,
   "metadata": {},
   "outputs": [
    {
     "name": "stdout",
     "output_type": "stream",
     "text": [
      "<class 'pandas.core.frame.DataFrame'>\n",
      "RangeIndex: 955 entries, 0 to 954\n",
      "Data columns (total 23 columns):\n",
      "price_per_sq_ft         955 non-null float64\n",
      "sale_price              955 non-null int64\n",
      "list_price              955 non-null int64\n",
      "close_date              955 non-null object\n",
      "street_number           955 non-null int64\n",
      "street_name             955 non-null object\n",
      "city                    955 non-null object\n",
      "county                  955 non-null object\n",
      "zip5                    955 non-null int64\n",
      "beds_total              955 non-null int64\n",
      "baths.lavs              955 non-null float64\n",
      "est_fin_abv_grd_sqft    955 non-null int64\n",
      "acreage                 955 non-null float64\n",
      "price_per_sq_ft_.1      955 non-null float64\n",
      "sale_price.1            955 non-null int64\n",
      "original_list_price     955 non-null int64\n",
      "photo_count             955 non-null int64\n",
      "pool_yn                 955 non-null bool\n",
      "avg                     955 non-null float64\n",
      "count                   955 non-null int64\n",
      "sqft-est_tot_fin        955 non-null float64\n",
      "sqft-est_fin_abv_grd    955 non-null float64\n",
      "year_built              955 non-null int64\n",
      "dtypes: bool(1), float64(7), int64(11), object(4)\n",
      "memory usage: 165.2+ KB\n"
     ]
    }
   ],
   "source": [
    "housing.info()"
   ]
  },
  {
   "cell_type": "code",
   "execution_count": 12,
   "metadata": {},
   "outputs": [
    {
     "data": {
      "image/png": "[encoded data removed]",
      "text/plain": [
       "<Figure size 432x288 with 1 Axes>"
      ]
     },
     "metadata": {
      "needs_background": "light"
     },
     "output_type": "display_data"
    }
   ],
   "source": [
    "#Function to plot count of features:\n",
    "def display_count(df,feature):\n",
    "    count = Counter(df[feature])\n",
    "    df_count = pd.DataFrame.from_dict(count, orient='index')\n",
    "    df_count.plot(kind='bar')\n",
    "    plt.title('Count of ' + feature)\n",
    "    plt.show()\n",
    "\n",
    "display_count(housing,'pool_yn')"
   ]
  },
  {
   "cell_type": "code",
   "execution_count": 13,
   "metadata": {},
   "outputs": [
    {
     "name": "stdout",
     "output_type": "stream",
     "text": [
      "\n",
      " mu = 277281.85 and sigma = 97901.58\n",
      "\n"
     ]
    },
    {
     "data": {
      "image/png": "[encoded data removed]",
      "text/plain": [
       "<Figure size 432x288 with 1 Axes>"
      ]
     },
     "metadata": {
      "needs_background": "light"
     },
     "output_type": "display_data"
    },
    {
     "data": {
      "image/png": "[encoded data removed]",
      "text/plain": [
       "<Figure size 432x288 with 1 Axes>"
      ]
     },
     "metadata": {
      "needs_background": "light"
     },
     "output_type": "display_data"
    }
   ],
   "source": [
    "def normality_check(df,feature):\n",
    "    sns.distplot(df[feature] , fit=norm);\n",
    "\n",
    "    # Get the fitted parameters used by the function\n",
    "    (mu, sigma) = norm.fit(df[feature])\n",
    "    print( '\\n mu = {:.2f} and sigma = {:.2f}\\n'.format(mu, sigma))\n",
    "    plt.legend(['Normal dist. ($\\mu=$ {:.2f} and $\\sigma=$ {:.2f} )'.format(mu, sigma)],\n",
    "                loc='best')\n",
    "    plt.ylabel('Frequency')\n",
    "    plt.title(str(feature) + ' distribution')\n",
    "\n",
    "    fig = plt.figure()\n",
    "    res = stats.probplot(df[feature], plot=plt)\n",
    "    plt.show()\n",
    "    \n",
    "normality_check(housing, 'sale_price')"
   ]
  },
  {
   "cell_type": "code",
   "execution_count": 14,
   "metadata": {},
   "outputs": [],
   "source": [
    "housing = housing.drop(['street_name'], axis=1)"
   ]
  },
  {
   "cell_type": "code",
   "execution_count": 15,
   "metadata": {},
   "outputs": [],
   "source": [
    "def dummyEncode(df):\n",
    "        columnsToEncode = list(df.select_dtypes(include=['category','object']))\n",
    "        le = LabelEncoder()\n",
    "        for feature in columnsToEncode:\n",
    "            try:\n",
    "                df[feature] = le.fit_transform(df[feature])\n",
    "            except:\n",
    "                print('Error encoding '+feature)\n",
    "        return df\n",
    "\n",
    "housing = dummyEncode(housing)"
   ]
  },
  {
   "cell_type": "code",
   "execution_count": 16,
   "metadata": {},
   "outputs": [],
   "source": [
    "X = housing.drop(['sale_price'], axis=1)\n",
    "y = housing['sale_price']"
   ]
  },
  {
   "cell_type": "code",
   "execution_count": 17,
   "metadata": {},
   "outputs": [
    {
     "name": "stdout",
     "output_type": "stream",
     "text": [
      "X_train shape is:  (764, 21)\n",
      "X_test shape is:  (191, 21)\n",
      "y_train shape is:  (764,)\n",
      "y_trest shape is:  (191,)\n"
     ]
    }
   ],
   "source": [
    "#Splitting data\n",
    "X_train, X_test, y_train, y_test = train_test_split(\n",
    "    X, y, test_size=0.2, random_state=42)\n",
    "\n",
    "# Confirming correct shapes of data\n",
    "print(\"X_train shape is: \", (X_train.shape))\n",
    "print(\"X_test shape is: \",(X_test.shape))\n",
    "print(\"y_train shape is: \",(y_train.shape))\n",
    "print(\"y_trest shape is: \",(y_test.shape))"
   ]
  },
  {
   "cell_type": "code",
   "execution_count": 18,
   "metadata": {},
   "outputs": [],
   "source": [
    "def model(pipeline, parameters, X_train, y_train, X, y):\n",
    "\n",
    "    grid_obj = GridSearchCV(estimator=pipeline,\n",
    "                            param_grid=parameters,\n",
    "                            cv=3,\n",
    "                            scoring='r2',\n",
    "                            verbose=2,\n",
    "                            n_jobs=1,\n",
    "                            refit=True)\n",
    "    grid_obj.fit(X_train, y_train)\n",
    "    \n",
    "    '''Results'''\n",
    "\n",
    "    results = pd.DataFrame(pd.DataFrame(grid_obj.cv_results_))\n",
    "    results_sorted = results.sort_values(by=['mean_test_score'], ascending=False)\n",
    "\n",
    "    print(\"##### Results\")\n",
    "    print(results_sorted)\n",
    "\n",
    "    print(\"best_index\", grid_obj.best_index_)\n",
    "    print(\"best_score\", grid_obj.best_score_)\n",
    "    print(\"best_params\", grid_obj.best_params_)\n",
    "    \n",
    "    '''Cross Validation'''\n",
    "\n",
    "    estimator = grid_obj.best_estimator_\n",
    "    '''\n",
    "    if estimator.named_steps['scl'] == True:\n",
    "        X = (X - X.mean()) / (X.std())\n",
    "        y = (y - y.mean()) / (y.std())\n",
    "    '''\n",
    "    shuffle = KFold(n_splits=5,\n",
    "                    shuffle=True,\n",
    "                    random_state=0)\n",
    "    cv_scores = cross_val_score(estimator,\n",
    "                                X,\n",
    "                                y.values.ravel(),\n",
    "                                cv=shuffle,\n",
    "                                scoring='r2')\n",
    "    print(\"##### CV Results\")\n",
    "    print(\"mean_score\", cv_scores.mean())\n",
    "    \n",
    "    '''Show model coefficients or feature importances'''\n",
    "\n",
    "    try:\n",
    "        print(\"Model coefficients: \", list(zip(list(X), estimator.named_steps['clf'].coef_)))\n",
    "    except:\n",
    "        print(\"Model does not support model coefficients\")\n",
    "\n",
    "    try:\n",
    "        print(\"Feature importances: \", list(zip(list(X), estimator.named_steps['clf'].feature_importances_)))\n",
    "    except:\n",
    "        print(\"Model does not support feature importances\")\n",
    "\n",
    "    '''Predict along CV and plot y vs. y_predicted in scatter'''\n",
    "\n",
    "    y_pred = cross_val_predict(estimator, X, y, cv=shuffle)\n",
    "    \n",
    "    plt.scatter(y, y_pred)\n",
    "    xmin, xmax = plt.xlim()\n",
    "    ymin, ymax = plt.ylim()\n",
    "    plt.plot([xmin, xmax], [ymin, ymax], \"g--\", lw=1, alpha=0.4)\n",
    "    plt.xlabel(\"True prices\")\n",
    "    plt.ylabel(\"Predicted prices\")\n",
    "    plt.annotate(' R-squared CV = {}'.format(round(float(cv_scores.mean()), 3)), size=9,\n",
    "             xy=(xmin,ymax), xytext=(10, -15), textcoords='offset points')\n",
    "    plt.annotate(grid_obj.best_params_, size=9,\n",
    "                 xy=(xmin, ymax), xytext=(10, -35), textcoords='offset points', wrap=True)\n",
    "    plt.title('Predicted prices  vs. True prices')\n",
    "    plt.show()"
   ]
  },
  {
   "cell_type": "code",
   "execution_count": 19,
   "metadata": {},
   "outputs": [],
   "source": [
    "# Pipeline and Parameters - Linear Regression\n",
    "\n",
    "pipe_ols = Pipeline([('scl', StandardScaler()),\n",
    "           ('clf', LinearRegression())])\n",
    "\n",
    "param_ols = {}"
   ]
  },
  {
   "cell_type": "code",
   "execution_count": 20,
   "metadata": {},
   "outputs": [],
   "source": [
    "# Pipeline and Parameters - XGBoost\n",
    "\n",
    "pipe_xgb = Pipeline([('clf', xgb.XGBRegressor())])\n",
    "\n",
    "param_xgb = {'clf__max_depth':[5],\n",
    "             'clf__min_child_weight':[6],\n",
    "             'clf__gamma':[0.01],\n",
    "             'clf__subsample':[0.7],\n",
    "             'clf__colsample_bytree':[1]}"
   ]
  },
  {
   "cell_type": "code",
   "execution_count": 21,
   "metadata": {},
   "outputs": [],
   "source": [
    "# Pipeline and Parameters - KNN\n",
    "\n",
    "pipe_knn = Pipeline([('clf', KNeighborsRegressor())])\n",
    "\n",
    "param_knn = {'clf__n_neighbors':[5, 10, 15, 25, 30]}"
   ]
  },
  {
   "cell_type": "code",
   "execution_count": 22,
   "metadata": {},
   "outputs": [],
   "source": [
    "# Pipeline and Parameters - Lasso\n",
    "\n",
    "pipe_lasso = Pipeline([('scl', StandardScaler()),\n",
    "           ('clf', Lasso(max_iter=1500))])\n",
    "param_lasso = {'clf__alpha': [0.01, 0.1, 1, 10]}"
   ]
  },
  {
   "cell_type": "code",
   "execution_count": 23,
   "metadata": {},
   "outputs": [],
   "source": [
    "# Pipeline and Parameters - Ridge\n",
    "\n",
    "pipe_ridge = Pipeline([('scl', StandardScaler()),\n",
    "           ('clf', Ridge())])\n",
    "\n",
    "param_ridge = {'clf__alpha': [0.01, 0.1, 1, 10]}"
   ]
  },
  {
   "cell_type": "code",
   "execution_count": 24,
   "metadata": {},
   "outputs": [],
   "source": [
    "# Pipeline and Parameters - Polynomial Regression\n",
    "\n",
    "pipe_poly = Pipeline([('scl', StandardScaler()),\n",
    "                       ('polynomial', PolynomialFeatures()),\n",
    "                       ('clf', LinearRegression())])\n",
    "\n",
    "param_poly = {'polynomial__degree': [2, 4, 6]}"
   ]
  },
  {
   "cell_type": "code",
   "execution_count": 25,
   "metadata": {},
   "outputs": [],
   "source": [
    "# Pipeline and Parameters - Decision Tree Regression\n",
    "\n",
    "pipe_tree = Pipeline([('clf', DecisionTreeRegressor())])\n",
    "\n",
    "param_tree = {'clf__max_depth': [2, 5, 10],\n",
    "             'clf__min_samples_leaf': [5,10,50,100]}"
   ]
  },
  {
   "cell_type": "code",
   "execution_count": 26,
   "metadata": {},
   "outputs": [],
   "source": [
    "# Pipeline and Parameters - Random Forest\n",
    "\n",
    "pipe_forest = Pipeline([('clf', RandomForestRegressor())])\n",
    "\n",
    "param_forest = {'clf__n_estimators': [10, 20, 50],\n",
    "                'clf__max_features': [None, 1, 2],\n",
    "                'clf__max_depth': [1, 2, 5]}"
   ]
  },
  {
   "cell_type": "code",
   "execution_count": 27,
   "metadata": {},
   "outputs": [],
   "source": [
    "# Pipeline and Parameters - MLP Regression\n",
    "\n",
    "pipe_neural = Pipeline([('scl', StandardScaler()),\n",
    "                        ('clf', MLPRegressor())])\n",
    "\n",
    "param_neural = {'clf__alpha': [0.001, 0.01, 0.1, 1, 10, 100],\n",
    "                'clf__hidden_layer_sizes': [(5),(10,10),(7,7,7)],\n",
    "                'clf__solver': ['lbfgs'],\n",
    "                'clf__activation': ['relu', 'tanh'],\n",
    "                'clf__learning_rate' : ['constant', 'invscaling']}"
   ]
  },
  {
   "cell_type": "code",
   "execution_count": null,
   "metadata": {},
   "outputs": [
    {
     "name": "stdout",
     "output_type": "stream",
     "text": [
      "Fitting 3 folds for each of 1 candidates, totalling 3 fits\n",
      "[CV]  ................................................................\n",
      "[CV] ................................................. , total=   0.0s\n",
      "[CV]  ................................................................\n",
      "[CV] ................................................. , total=   0.0s\n",
      "[CV]  ................................................................\n",
      "[CV] ................................................. , total=   0.0s\n",
      "##### Results\n",
      "   mean_fit_time  std_fit_time  mean_score_time  std_score_time params  \\\n",
      "0       0.018802       0.00202          0.00406        0.001294     {}   \n",
      "\n",
      "   split0_test_score  split1_test_score  split2_test_score  mean_test_score  \\\n",
      "0                1.0                1.0                1.0              1.0   \n",
      "\n",
      "   std_test_score  rank_test_score  split0_train_score  split1_train_score  \\\n",
      "0             0.0                1                 1.0                 1.0   \n",
      "\n",
      "   split2_train_score  mean_train_score  std_train_score  \n",
      "0                 1.0               1.0              0.0  \n",
      "best_index 0\n",
      "best_score 1.0\n",
      "best_params {}\n"
     ]
    },
    {
     "name": "stderr",
     "output_type": "stream",
     "text": [
      "[Parallel(n_jobs=1)]: Using backend SequentialBackend with 1 concurrent workers.\n",
      "[Parallel(n_jobs=1)]: Done   1 out of   1 | elapsed:    0.0s remaining:    0.0s\n",
      "[Parallel(n_jobs=1)]: Done   3 out of   3 | elapsed:    0.1s finished\n"
     ]
    },
    {
     "name": "stdout",
     "output_type": "stream",
     "text": [
      "##### CV Results\n",
      "mean_score 1.0\n",
      "Model coefficients:  [('price_per_sq_ft', 1.887201506178826e-11), ('list_price', 2.0236257114447653e-11), ('close_date', -1.3642420526593924e-11), ('street_number', 9.094947017729282e-12), ('city', 4.915186434801652e-11), ('county', 4.061045241816686e-11), ('zip5', 3.183231456205249e-12), ('beds_total', 3.637978807091713e-12), ('baths.lavs', 1.6370904631912708e-11), ('est_fin_abv_grd_sqft', -2.000888343900442e-11), ('acreage', -5.9117155615240335e-12), ('price_per_sq_ft_.1', 1.0686562745831907e-11), ('sale_price.1', 100226.77143892102), ('original_list_price', -6.730260793119669e-11), ('photo_count', 1.000444171950221e-11), ('pool_yn', 1.3642420526593924e-11), ('avg', -8.640199666842818e-12), ('count', 9.094947017729282e-12), ('sqft-est_tot_fin', 5.6843418860808015e-12), ('sqft-est_fin_abv_grd', 1.3642420526593924e-12), ('year_built', -9.094947017729282e-12)]\n",
      "Model does not support feature importances\n"
     ]
    },
    {
     "data": {
      "image/png": "[encoded data removed]",
      "text/plain": [
       "<Figure size 432x288 with 1 Axes>"
      ]
     },
     "metadata": {
      "needs_background": "light"
     },
     "output_type": "display_data"
    },
    {
     "name": "stdout",
     "output_type": "stream",
     "text": [
      "Fitting 3 folds for each of 1 candidates, totalling 3 fits\n",
      "[CV] clf__colsample_bytree=1, clf__gamma=0.01, clf__max_depth=5, clf__min_child_weight=6, clf__subsample=0.7 \n",
      "[CV]  clf__colsample_bytree=1, clf__gamma=0.01, clf__max_depth=5, clf__min_child_weight=6, clf__subsample=0.7, total=   0.1s\n",
      "[CV] clf__colsample_bytree=1, clf__gamma=0.01, clf__max_depth=5, clf__min_child_weight=6, clf__subsample=0.7 \n"
     ]
    },
    {
     "name": "stderr",
     "output_type": "stream",
     "text": [
      "[Parallel(n_jobs=1)]: Using backend SequentialBackend with 1 concurrent workers.\n",
      "[Parallel(n_jobs=1)]: Done   1 out of   1 | elapsed:    0.2s remaining:    0.0s\n"
     ]
    },
    {
     "name": "stdout",
     "output_type": "stream",
     "text": [
      "[CV]  clf__colsample_bytree=1, clf__gamma=0.01, clf__max_depth=5, clf__min_child_weight=6, clf__subsample=0.7, total=   0.1s\n",
      "[CV] clf__colsample_bytree=1, clf__gamma=0.01, clf__max_depth=5, clf__min_child_weight=6, clf__subsample=0.7 \n",
      "[CV]  clf__colsample_bytree=1, clf__gamma=0.01, clf__max_depth=5, clf__min_child_weight=6, clf__subsample=0.7, total=   0.1s\n"
     ]
    },
    {
     "name": "stderr",
     "output_type": "stream",
     "text": [
      "[Parallel(n_jobs=1)]: Done   3 out of   3 | elapsed:    0.4s finished\n"
     ]
    },
    {
     "name": "stdout",
     "output_type": "stream",
     "text": [
      "##### Results\n",
      "   mean_fit_time  std_fit_time  mean_score_time  std_score_time  \\\n",
      "0       0.135938      0.006326         0.003377         0.00009   \n",
      "\n",
      "  param_clf__colsample_bytree param_clf__gamma param_clf__max_depth  \\\n",
      "0                           1             0.01                    5   \n",
      "\n",
      "  param_clf__min_child_weight param_clf__subsample  \\\n",
      "0                           6                  0.7   \n",
      "\n",
      "                                              params  ...  split1_test_score  \\\n",
      "0  {'clf__colsample_bytree': 1, 'clf__gamma': 0.0...  ...            0.99258   \n",
      "\n",
      "   split2_test_score  mean_test_score  std_test_score  rank_test_score  \\\n",
      "0           0.993801         0.966762         0.03734                1   \n",
      "\n",
      "   split0_train_score  split1_train_score  split2_train_score  \\\n",
      "0             0.99361            0.991108            0.992785   \n",
      "\n",
      "   mean_train_score  std_train_score  \n",
      "0          0.992501         0.001041  \n",
      "\n",
      "[1 rows x 21 columns]\n",
      "best_index 0\n",
      "best_score 0.966762007510205\n",
      "best_params {'clf__colsample_bytree': 1, 'clf__gamma': 0.01, 'clf__max_depth': 5, 'clf__min_child_weight': 6, 'clf__subsample': 0.7}\n",
      "##### CV Results\n",
      "mean_score 0.9828649309168055\n",
      "Model does not support model coefficients\n",
      "Feature importances:  [('price_per_sq_ft', 0.007642687), ('list_price', 0.15261753), ('close_date', 0.0016629908), ('street_number', 0.009797223), ('city', 0.0), ('county', 0.0), ('zip5', 0.0), ('beds_total', 0.021606348), ('baths.lavs', 0.02631694), ('est_fin_abv_grd_sqft', 0.043378096), ('acreage', 0.0045910357), ('price_per_sq_ft_.1', 0.0), ('sale_price.1', 0.60197484), ('original_list_price', 0.0801242), ('photo_count', 0.0064468784), ('pool_yn', 0.0), ('avg', 0.00033063273), ('count', 0.0), ('sqft-est_tot_fin', 0.026202414), ('sqft-est_fin_abv_grd', 0.0016345433), ('year_built', 0.015673604)]\n"
     ]
    },
    {
     "data": {
      "image/png": "[encoded data removed]",
      "text/plain": [
       "<Figure size 432x288 with 1 Axes>"
      ]
     },
     "metadata": {
      "needs_background": "light"
     },
     "output_type": "display_data"
    },
    {
     "name": "stdout",
     "output_type": "stream",
     "text": [
      "Fitting 3 folds for each of 5 candidates, totalling 15 fits\n",
      "[CV] clf__n_neighbors=5 ..............................................\n",
      "[CV] ............................... clf__n_neighbors=5, total=   0.0s\n",
      "[CV] clf__n_neighbors=5 ..............................................\n",
      "[CV] ............................... clf__n_neighbors=5, total=   0.0s\n",
      "[CV] clf__n_neighbors=5 ..............................................\n",
      "[CV] ............................... clf__n_neighbors=5, total=   0.0s\n",
      "[CV] clf__n_neighbors=10 .............................................\n",
      "[CV] .............................. clf__n_neighbors=10, total=   0.0s\n",
      "[CV] clf__n_neighbors=10 .............................................\n",
      "[CV] .............................. clf__n_neighbors=10, total=   0.0s\n",
      "[CV] clf__n_neighbors=10 .............................................\n",
      "[CV] .............................. clf__n_neighbors=10, total=   0.0s\n",
      "[CV] clf__n_neighbors=15 .............................................\n",
      "[CV] .............................. clf__n_neighbors=15, total=   0.0s\n",
      "[CV] clf__n_neighbors=15 .............................................\n",
      "[CV] .............................. clf__n_neighbors=15, total=   0.0s\n",
      "[CV] clf__n_neighbors=15 .............................................\n",
      "[CV] .............................. clf__n_neighbors=15, total=   0.0s\n",
      "[CV] clf__n_neighbors=25 .............................................\n",
      "[CV] .............................. clf__n_neighbors=25, total=   0.0s"
     ]
    },
    {
     "name": "stderr",
     "output_type": "stream",
     "text": [
      "[Parallel(n_jobs=1)]: Using backend SequentialBackend with 1 concurrent workers.\n",
      "[Parallel(n_jobs=1)]: Done   1 out of   1 | elapsed:    0.0s remaining:    0.0s\n"
     ]
    },
    {
     "name": "stdout",
     "output_type": "stream",
     "text": [
      "\n",
      "[CV] clf__n_neighbors=25 .............................................\n",
      "[CV] .............................. clf__n_neighbors=25, total=   0.0s\n",
      "[CV] clf__n_neighbors=25 .............................................\n",
      "[CV] .............................. clf__n_neighbors=25, total=   0.0s\n",
      "[CV] clf__n_neighbors=30 .............................................\n",
      "[CV] .............................. clf__n_neighbors=30, total=   0.0s\n",
      "[CV] clf__n_neighbors=30 .............................................\n",
      "[CV] .............................. clf__n_neighbors=30, total=   0.0s\n",
      "[CV] clf__n_neighbors=30 .............................................\n",
      "[CV] .............................. clf__n_neighbors=30, total=   0.0s\n",
      "##### Results\n",
      "   mean_fit_time  std_fit_time  mean_score_time  std_score_time  \\\n",
      "0       0.007768      0.000048         0.006534        0.001717   \n",
      "1       0.004849      0.000829         0.004171        0.000137   \n",
      "2       0.004470      0.000906         0.004508        0.000282   \n",
      "3       0.007605      0.003401         0.007272        0.002297   \n",
      "4       0.006326      0.002032         0.005005        0.000170   \n",
      "\n",
      "  param_clf__n_neighbors                    params  split0_test_score  \\\n",
      "0                      5   {'clf__n_neighbors': 5}           0.908296   \n",
      "1                     10  {'clf__n_neighbors': 10}           0.868390   \n",
      "2                     15  {'clf__n_neighbors': 15}           0.844987   \n",
      "3                     25  {'clf__n_neighbors': 25}           0.815101   \n",
      "4                     30  {'clf__n_neighbors': 30}           0.802116   \n",
      "\n",
      "   split1_test_score  split2_test_score  mean_test_score  std_test_score  \\\n",
      "0           0.984267           0.991094         0.961180        0.037535   \n",
      "1           0.980584           0.975980         0.941606        0.051857   \n",
      "2           0.976612           0.964084         0.928515        0.059341   \n",
      "3           0.958706           0.948873         0.907506        0.065527   \n",
      "4           0.951199           0.942077         0.898407        0.068256   \n",
      "\n",
      "   rank_test_score  split0_train_score  split1_train_score  \\\n",
      "0                1            0.986391            0.981568   \n",
      "1                2            0.969823            0.949654   \n",
      "2                3            0.958227            0.925434   \n",
      "3                4            0.943576            0.895625   \n",
      "4                5            0.936295            0.883419   \n",
      "\n",
      "   split2_train_score  mean_train_score  std_train_score  \n",
      "0            0.979661          0.982540         0.002832  \n",
      "1            0.943226          0.954234         0.011331  \n",
      "2            0.915158          0.932939         0.018366  \n",
      "3            0.880533          0.906578         0.026877  \n",
      "4            0.868393          0.896036         0.029121  \n",
      "best_index 0\n",
      "best_score 0.9611798875221665\n",
      "best_params {'clf__n_neighbors': 5}\n",
      "##### CV Results\n",
      "mean_score 0.9801741983003366\n",
      "Model does not support model coefficients\n",
      "Model does not support feature importances\n"
     ]
    },
    {
     "name": "stderr",
     "output_type": "stream",
     "text": [
      "[Parallel(n_jobs=1)]: Done  15 out of  15 | elapsed:    0.3s finished\n"
     ]
    },
    {
     "data": {
      "image/png": "[encoded data removed]",
      "text/plain": [
       "<Figure size 432x288 with 1 Axes>"
      ]
     },
     "metadata": {
      "needs_background": "light"
     },
     "output_type": "display_data"
    },
    {
     "name": "stdout",
     "output_type": "stream",
     "text": [
      "Fitting 3 folds for each of 4 candidates, totalling 12 fits\n",
      "[CV] clf__alpha=0.01 .................................................\n",
      "[CV] .................................. clf__alpha=0.01, total=   0.0s\n",
      "[CV] clf__alpha=0.01 .................................................\n",
      "[CV] .................................. clf__alpha=0.01, total=   0.0s\n",
      "[CV] clf__alpha=0.01 .................................................\n",
      "[CV] .................................. clf__alpha=0.01, total=   0.0s\n",
      "[CV] clf__alpha=0.1 ..................................................\n",
      "[CV] ................................... clf__alpha=0.1, total=   0.0s\n",
      "[CV] clf__alpha=0.1 ..................................................\n",
      "[CV] ................................... clf__alpha=0.1, total=   0.0s\n",
      "[CV] clf__alpha=0.1 ..................................................\n",
      "[CV] ................................... clf__alpha=0.1, total=   0.0s\n",
      "[CV] clf__alpha=1 ....................................................\n",
      "[CV] ..................................... clf__alpha=1, total=   0.0s\n",
      "[CV] clf__alpha=1 ....................................................\n"
     ]
    },
    {
     "name": "stderr",
     "output_type": "stream",
     "text": [
      "[Parallel(n_jobs=1)]: Using backend SequentialBackend with 1 concurrent workers.\n",
      "[Parallel(n_jobs=1)]: Done   1 out of   1 | elapsed:    0.0s remaining:    0.0s\n"
     ]
    },
    {
     "name": "stdout",
     "output_type": "stream",
     "text": [
      "[CV] ..................................... clf__alpha=1, total=   0.0s\n",
      "[CV] clf__alpha=1 ....................................................\n",
      "[CV] ..................................... clf__alpha=1, total=   0.0s\n",
      "[CV] clf__alpha=10 ...................................................\n",
      "[CV] .................................... clf__alpha=10, total=   0.0s\n",
      "[CV] clf__alpha=10 ...................................................\n",
      "[CV] .................................... clf__alpha=10, total=   0.0s\n",
      "[CV] clf__alpha=10 ...................................................\n",
      "[CV] .................................... clf__alpha=10, total=   0.0s\n",
      "##### Results\n",
      "   mean_fit_time  std_fit_time  mean_score_time  std_score_time  \\\n",
      "3       0.013443      0.000866         0.003210        0.000575   \n",
      "2       0.020766      0.003265         0.004772        0.000536   \n",
      "1       0.014948      0.000895         0.003245        0.000240   \n",
      "0       0.017632      0.002721         0.003644        0.001752   \n",
      "\n",
      "  param_clf__alpha                params  split0_test_score  \\\n",
      "3               10    {'clf__alpha': 10}           1.000000   \n",
      "2                1     {'clf__alpha': 1}           0.999999   \n",
      "1              0.1   {'clf__alpha': 0.1}           0.999999   \n",
      "0             0.01  {'clf__alpha': 0.01}           0.999999   \n",
      "\n",
      "   split1_test_score  split2_test_score  mean_test_score  std_test_score  \\\n",
      "3           1.000000           1.000000         1.000000    1.075430e-07   \n",
      "2           0.999998           0.999999         0.999999    4.099273e-07   \n",
      "1           0.999997           0.999998         0.999998    6.596959e-07   \n",
      "0           0.999997           0.999998         0.999998    6.723109e-07   \n",
      "\n",
      "   rank_test_score  split0_train_score  split1_train_score  \\\n",
      "3                1            1.000000            1.000000   \n",
      "2                2            0.999999            0.999999   \n",
      "1                3            0.999999            0.999998   \n",
      "0                4            0.999999            0.999998   \n",
      "\n",
      "   split2_train_score  mean_train_score  std_train_score  \n",
      "3            1.000000          1.000000     5.683934e-08  \n",
      "2            0.999999          0.999999     1.075216e-07  \n",
      "1            0.999998          0.999998     1.316791e-07  \n",
      "0            0.999998          0.999998     1.313400e-07  \n",
      "best_index 3\n",
      "best_score 0.9999997013358661\n",
      "best_params {'clf__alpha': 10}\n"
     ]
    },
    {
     "name": "stderr",
     "output_type": "stream",
     "text": [
      "[Parallel(n_jobs=1)]: Done  12 out of  12 | elapsed:    0.3s finished\n"
     ]
    },
    {
     "name": "stdout",
     "output_type": "stream",
     "text": [
      "##### CV Results\n",
      "mean_score 0.9999997364510408\n",
      "Model coefficients:  [('price_per_sq_ft', 0.0), ('list_price', 315.195197098341), ('close_date', 0.0), ('street_number', -0.0), ('city', 0.0), ('county', 0.0), ('zip5', -0.0), ('beds_total', -0.0), ('baths.lavs', -0.0), ('est_fin_abv_grd_sqft', 227.32339180626008), ('acreage', -0.0), ('price_per_sq_ft_.1', 130.09044626315313), ('sale_price.1', 99662.03765663665), ('original_list_price', 0.0), ('photo_count', -0.0), ('pool_yn', -0.0), ('avg', 0.0), ('count', 0.0), ('sqft-est_tot_fin', -0.0), ('sqft-est_fin_abv_grd', -0.0), ('year_built', 0.0)]\n",
      "Model does not support feature importances\n"
     ]
    },
    {
     "data": {
      "image/png": "[encoded data removed]",
      "text/plain": [
       "<Figure size 432x288 with 1 Axes>"
      ]
     },
     "metadata": {
      "needs_background": "light"
     },
     "output_type": "display_data"
    },
    {
     "name": "stdout",
     "output_type": "stream",
     "text": [
      "Fitting 3 folds for each of 4 candidates, totalling 12 fits\n",
      "[CV] clf__alpha=0.01 .................................................\n",
      "[CV] .................................. clf__alpha=0.01, total=   0.0s\n",
      "[CV] clf__alpha=0.01 .................................................\n",
      "[CV] .................................. clf__alpha=0.01, total=   0.0s\n",
      "[CV] clf__alpha=0.01 .................................................\n",
      "[CV] .................................. clf__alpha=0.01, total=   0.0s\n",
      "[CV] clf__alpha=0.1 ..................................................\n",
      "[CV] ................................... clf__alpha=0.1, total=   0.0s\n",
      "[CV] clf__alpha=0.1 ..................................................\n",
      "[CV] ................................... clf__alpha=0.1, total=   0.0s\n",
      "[CV] clf__alpha=0.1 ..................................................\n",
      "[CV] ................................... clf__alpha=0.1, total=   0.0s\n",
      "[CV] clf__alpha=1 ....................................................\n",
      "[CV] ..................................... clf__alpha=1, total=   0.0s\n",
      "[CV] clf__alpha=1 ....................................................\n",
      "[CV] ..................................... clf__alpha=1, total=   0.0s\n",
      "[CV] clf__alpha=1 ....................................................\n",
      "[CV] ..................................... clf__alpha=1, total=   0.0s\n",
      "[CV] clf__alpha=10 ...................................................\n"
     ]
    },
    {
     "name": "stderr",
     "output_type": "stream",
     "text": [
      "[Parallel(n_jobs=1)]: Using backend SequentialBackend with 1 concurrent workers.\n",
      "[Parallel(n_jobs=1)]: Done   1 out of   1 | elapsed:    0.0s remaining:    0.0s\n"
     ]
    },
    {
     "name": "stdout",
     "output_type": "stream",
     "text": [
      "[CV] .................................... clf__alpha=10, total=   0.0s\n",
      "[CV] clf__alpha=10 ...................................................\n",
      "[CV] .................................... clf__alpha=10, total=   0.0s\n",
      "[CV] clf__alpha=10 ...................................................\n",
      "[CV] .................................... clf__alpha=10, total=   0.0s\n",
      "##### Results\n",
      "   mean_fit_time  std_fit_time  mean_score_time  std_score_time  \\\n",
      "0       0.011800      0.001662         0.003369        0.000079   \n",
      "1       0.011080      0.001306         0.004015        0.001005   \n",
      "2       0.010317      0.001098         0.003235        0.000198   \n",
      "3       0.012135      0.001785         0.002876        0.000641   \n",
      "\n",
      "  param_clf__alpha                params  split0_test_score  \\\n",
      "0             0.01  {'clf__alpha': 0.01}           1.000000   \n",
      "1              0.1   {'clf__alpha': 0.1}           0.999996   \n",
      "2                1     {'clf__alpha': 1}           0.999799   \n",
      "3               10    {'clf__alpha': 10}           0.998140   \n",
      "\n",
      "   split1_test_score  split2_test_score  mean_test_score  std_test_score  \\\n",
      "0           1.000000           1.000000         1.000000    2.547855e-08   \n",
      "1           0.999991           0.999991         0.999993    2.316375e-06   \n",
      "2           0.999522           0.999593         0.999638    1.176994e-04   \n",
      "3           0.995689           0.996853         0.996894    1.001862e-03   \n",
      "\n",
      "   rank_test_score  split0_train_score  split1_train_score  \\\n",
      "0                1            1.000000            1.000000   \n",
      "1                2            0.999995            0.999994   \n",
      "2                3            0.999742            0.999706   \n",
      "3                4            0.997346            0.997647   \n",
      "\n",
      "   split2_train_score  mean_train_score  std_train_score  \n",
      "0            1.000000          1.000000     5.823731e-09  \n",
      "1            0.999994          0.999994     4.972400e-07  \n",
      "2            0.999718          0.999722     1.505902e-05  \n",
      "3            0.997601          0.997532     1.324000e-04  \n",
      "best_index 0\n",
      "best_score 0.9999999212443196\n",
      "best_params {'clf__alpha': 0.01}\n",
      "##### CV Results\n",
      "mean_score 0.9999999685953449\n",
      "Model coefficients:  [('price_per_sq_ft', 19.627166514785138), ('list_price', 153.12622973120475), ('close_date', -0.1572100350779576), ('street_number', -2.06787316723221), ('city', 0.0), ('county', 0.0), ('zip5', 1.8570948449943854), ('beds_total', -2.0782301233028653), ('baths.lavs', -1.3312145056061304), ('est_fin_abv_grd_sqft', 65.19280519636565), ('acreage', -3.0051143670290186), ('price_per_sq_ft_.1', 19.627166816345746), ('sale_price.1', 100020.52533685988), ('original_list_price', -15.193198671886629), ('photo_count', -1.078667515002629), ('pool_yn', -0.20054786343699477), ('avg', 0.1669553389798903), ('count', 1.4199489791216722), ('sqft-est_tot_fin', -0.5406697493297918), ('sqft-est_fin_abv_grd', 0.5579039273402756), ('year_built', 0.4920890910554139)]\n",
      "Model does not support feature importances\n"
     ]
    },
    {
     "name": "stderr",
     "output_type": "stream",
     "text": [
      "[Parallel(n_jobs=1)]: Done  12 out of  12 | elapsed:    0.3s finished\n"
     ]
    },
    {
     "data": {
      "image/png": "[encoded data removed]",
      "text/plain": [
       "<Figure size 432x288 with 1 Axes>"
      ]
     },
     "metadata": {
      "needs_background": "light"
     },
     "output_type": "display_data"
    },
    {
     "name": "stdout",
     "output_type": "stream",
     "text": [
      "Fitting 3 folds for each of 3 candidates, totalling 9 fits\n",
      "[CV] polynomial__degree=2 ............................................\n",
      "[CV] ............................. polynomial__degree=2, total=   0.1s\n",
      "[CV] polynomial__degree=2 ............................................\n"
     ]
    },
    {
     "name": "stderr",
     "output_type": "stream",
     "text": [
      "[Parallel(n_jobs=1)]: Using backend SequentialBackend with 1 concurrent workers.\n",
      "[Parallel(n_jobs=1)]: Done   1 out of   1 | elapsed:    0.1s remaining:    0.0s\n"
     ]
    },
    {
     "name": "stdout",
     "output_type": "stream",
     "text": [
      "[CV] ............................. polynomial__degree=2, total=   0.1s\n",
      "[CV] polynomial__degree=2 ............................................\n",
      "[CV] ............................. polynomial__degree=2, total=   0.1s\n",
      "[CV] polynomial__degree=4 ............................................\n",
      "[CV] ............................. polynomial__degree=4, total=   3.7s\n",
      "[CV] polynomial__degree=4 ............................................\n",
      "[CV] ............................. polynomial__degree=4, total=   3.0s\n",
      "[CV] polynomial__degree=4 ............................................\n",
      "[CV] ............................. polynomial__degree=4, total=   3.4s\n",
      "[CV] polynomial__degree=6 ............................................\n"
     ]
    }
   ],
   "source": [
    "# Execute model hyperparameter tuning and crossvalidation\n",
    "\n",
    "model(pipe_ols, param_ols, X_train, y_train, X, y)\n",
    "model(pipe_xgb, param_xgb, X_train, y_train, X, y)\n",
    "model(pipe_knn, param_knn, X_train, y_train, X, y)\n",
    "model(pipe_lasso, param_lasso, X_train, y_train, X, y)\n",
    "model(pipe_ridge, param_ridge, X_train, y_train, X, y)\n",
    "model(pipe_poly, param_poly, X_train, y_train, X, y)\n",
    "model(pipe_tree, param_tree, X_train, y_train, X, y)\n",
    "model(pipe_forest, param_forest, X_train, y_train, X, y)\n",
    "model(pipe_neural, param_neural, X_train, y_train, X, y)"
   ]
  },
  {
   "cell_type": "code",
   "execution_count": null,
   "metadata": {},
   "outputs": [],
   "source": []
  },
  {
   "cell_type": "code",
   "execution_count": null,
   "metadata": {},
   "outputs": [],
   "source": []
  },
  {
   "cell_type": "code",
   "execution_count": null,
   "metadata": {},
   "outputs": [],
   "source": []
  },
  {
   "cell_type": "code",
   "execution_count": null,
   "metadata": {},
   "outputs": [],
   "source": []
  },
  {
   "cell_type": "code",
   "execution_count": null,
   "metadata": {},
   "outputs": [],
   "source": []
  }
 ],
 "metadata": {
  "kernelspec": {
   "display_name": "Python 3",
   "language": "python",
   "name": "python3"
  },
  "language_info": {
   "codemirror_mode": {
    "name": "ipython",
    "version": 3
   },
   "file_extension": ".py",
   "mimetype": "text/x-python",
   "name": "python",
   "nbconvert_exporter": "python",
   "pygments_lexer": "ipython3",
   "version": "3.6.6"
  }
 },
 "nbformat": 4,
 "nbformat_minor": 2
}
