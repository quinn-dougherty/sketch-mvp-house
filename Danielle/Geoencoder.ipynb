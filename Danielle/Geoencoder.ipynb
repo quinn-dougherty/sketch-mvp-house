{
 "cells": [
  {
   "cell_type": "code",
   "execution_count": 2,
   "metadata": {},
   "outputs": [],
   "source": [
    "import pandas as pd\n",
    "from geopy import geocoders\n",
    "from geopy.exc import GeocoderTimedOut"
   ]
  },
  {
   "cell_type": "code",
   "execution_count": 3,
   "metadata": {},
   "outputs": [],
   "source": [
    "# Retrieve lat lon coordinates (mapped to zipcode)\n",
    "def geoencoder(data):\n",
    "    \n",
    "    g = geocoders.GoogleV3(api_key=['API KEY HERE'])\n",
    "\n",
    "    latcoordinates = {}\n",
    "    loncoordinates = {}\n",
    "\n",
    "    for x in data['zipcode_new'].unique():\n",
    "        try:\n",
    "            y = x + \" RoyalOaks\"\n",
    "            location = g.geocode(y, timeout=60)\n",
    "            lat = location.latitude\n",
    "            latcoordinates[x] = lat\n",
    "            lon = location.longitude\n",
    "            loncoordinates[x] = lon\n",
    "            print(y)\n",
    "            #time.sleep(5)\n",
    "        except GeocoderTimedOut as e:\n",
    "            print(\"Error: geocode failed on input %s with message %s\" % (y, e.message))\n",
    "\n",
    "\n",
    "    data[\"latitude\"] = data[\"zipcode_new\"].map(lambda x: latcoordinates[x])\n",
    "    data[\"longitude\"] = data[\"zipcode_new\"].map(lambda x: loncoordinates[x])\n",
    "\n",
    "    data.to_csv(\"Lat_Long.csv\", sep=\";\", encoding='utf-8')\n"
   ]
  },
  {
   "cell_type": "code",
   "execution_count": null,
   "metadata": {},
   "outputs": [],
   "source": []
  },
  {
   "cell_type": "code",
   "execution_count": null,
   "metadata": {},
   "outputs": [],
   "source": []
  },
  {
   "cell_type": "code",
   "execution_count": null,
   "metadata": {},
   "outputs": [],
   "source": []
  },
  {
   "cell_type": "code",
   "execution_count": null,
   "metadata": {},
   "outputs": [],
   "source": []
  }
 ],
 "metadata": {
  "kernelspec": {
   "display_name": "Python 3",
   "language": "python",
   "name": "python3"
  },
  "language_info": {
   "codemirror_mode": {
    "name": "ipython",
    "version": 3
   },
   "file_extension": ".py",
   "mimetype": "text/x-python",
   "name": "python",
   "nbconvert_exporter": "python",
   "pygments_lexer": "ipython3",
   "version": "3.6.8"
  }
 },
 "nbformat": 4,
 "nbformat_minor": 2
}
